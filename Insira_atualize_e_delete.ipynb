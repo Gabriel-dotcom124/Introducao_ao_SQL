{
  "nbformat": 4,
  "nbformat_minor": 0,
  "metadata": {
    "colab": {
      "provenance": []
    },
    "kernelspec": {
      "name": "python3",
      "display_name": "Python 3"
    },
    "language_info": {
      "name": "python"
    }
  },
  "cells": [
    {
      "cell_type": "markdown",
      "source": [
        "\n",
        "\n",
        "# **1.   Inserindo, atualizando e apagando**\n",
        "\n",
        "\n"
      ],
      "metadata": {
        "id": "oeJcA8knIpYR"
      }
    },
    {
      "cell_type": "markdown",
      "source": [
        "\n",
        "\n",
        "# **1.1   Comando SELECT**\n",
        "\n",
        "\n"
      ],
      "metadata": {
        "id": "cnLxvWr7Iz-y"
      }
    },
    {
      "cell_type": "markdown",
      "source": [
        "Para visualizar todos os dados da tabela, utilize asterisco (*):\n",
        "\n",
        "\n",
        "    SELECT * FROM <nome_tabela>;"
      ],
      "metadata": {
        "id": "o6X8gmdqI6Zj"
      }
    },
    {
      "cell_type": "markdown",
      "source": [
        "Para visualizar colunas específicas da tabela:\n",
        "\n",
        "    SELECT <nome_coluna_1>,<nome_coluna_2> FROM <nome_tabela>;"
      ],
      "metadata": {
        "id": "MnCD17H9JrYz"
      }
    },
    {
      "cell_type": "markdown",
      "source": [
        "Query 1:Selecionar todos os dados da tabela clientes.\n",
        "\n",
        "    SELECT * FROM clientes;"
      ],
      "metadata": {
        "id": "1dp9aEpRJ2Is"
      }
    },
    {
      "cell_type": "markdown",
      "source": [
        "\n",
        "\n",
        "# **1.2   Comando INSERT**\n",
        "\n",
        "\n"
      ],
      "metadata": {
        "id": "tCcsWPvRJ59F"
      }
    },
    {
      "cell_type": "markdown",
      "source": [
        "    INSERT INTO <nome_da_tabela> VALUES (<valor_1>,<valor_2>);"
      ],
      "metadata": {
        "id": "FnvH5EbLKHI_"
      }
    },
    {
      "cell_type": "markdown",
      "source": [
        "• Query 1:Inserir os dados na tabela de transações.\n",
        "\n",
        "    INSERT INTO transacoes VALUES (1,768805383,2021-06-10,50.74,'magalu');\n",
        "    \n",
        "    INSERT INTO transacoes VALUES (2,768805399,2021-06-13,30.90,'giraffas');\n",
        "    \n",
        "    INSERT INTO transacoes VALUES (3,818770008,2021-06-05,110.00,'postoshell');"
      ],
      "metadata": {
        "id": "KAFdSOPcKlQ8"
      }
    },
    {
      "cell_type": "markdown",
      "source": [
        "\n",
        "\n",
        "# **1.3   Comando UPDATE**\n",
        "\n",
        "\n"
      ],
      "metadata": {
        "id": "8g0yFWWFKvV9"
      }
    },
    {
      "cell_type": "markdown",
      "source": [
        "    UPDATE <nome_da_tabela>\n",
        "    \n",
        "    SET <coluna_1> = <valor_1>, <coluna_2> = <valor_2>, ...\n",
        "    \n",
        "    WHERE <condição>;"
      ],
      "metadata": {
        "id": "floXfQiXK8jX"
      }
    },
    {
      "cell_type": "markdown",
      "source": [
        "\n",
        "\n",
        "*  Nota: caso você não utilize o comando WHERE, todos os valores serão alterados!\n",
        "\n",
        "\n"
      ],
      "metadata": {
        "id": "Rx9S64giL9Cq"
      }
    },
    {
      "cell_type": "markdown",
      "source": [
        "Query 1:Atualizar o valor da compra com id = 818770008.\n",
        "\n",
        "    UPDATE transacoes\n",
        "    \n",
        "    SET valor = 250.30\n",
        "    \n",
        "    WHERE id = 818770008; i"
      ],
      "metadata": {
        "id": "tu4ycARXMBqS"
      }
    },
    {
      "cell_type": "markdown",
      "source": [
        "\n",
        "\n",
        "# **1.4  Comando DELETE**\n",
        "\n",
        "\n"
      ],
      "metadata": {
        "id": "BNwotKJtMIpL"
      }
    },
    {
      "cell_type": "markdown",
      "source": [
        "    DELETE FROM <nome_da_tabela> WHERE <condição>;"
      ],
      "metadata": {
        "id": "Z4IUlO0aM0GK"
      }
    },
    {
      "cell_type": "markdown",
      "source": [
        "Query 1:Remover os dados do cliente 768805383 na tabela de transações\n",
        "\n",
        "    DELETE FROM transacoes WHERE id_cliente = 768805383;"
      ],
      "metadata": {
        "id": "gPuyAyn0M18i"
      }
    }
  ]
}