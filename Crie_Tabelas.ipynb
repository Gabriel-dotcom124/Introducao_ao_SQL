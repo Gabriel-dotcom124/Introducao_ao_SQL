{
  "nbformat": 4,
  "nbformat_minor": 0,
  "metadata": {
    "colab": {
      "provenance": []
    },
    "kernelspec": {
      "name": "python3",
      "display_name": "Python 3"
    },
    "language_info": {
      "name": "python"
    }
  },
  "cells": [
    {
      "cell_type": "markdown",
      "source": [
        "\n",
        "\n",
        "# **1.   Criando Tabelas**\n",
        "\n",
        "\n"
      ],
      "metadata": {
        "id": "B7OzIU403zIN"
      }
    },
    {
      "cell_type": "markdown",
      "source": [
        "\n",
        "\n",
        "# **1.1   Tipos de Dados**\n",
        "\n",
        "\n",
        "• INT: Valores numéricos exatos que usam dados inteiros.\n",
        "\n",
        "• FLOAT e DOUBLE: Valores numéricos aproximados para uso com dados numéricos de ponto flutuante.\n",
        "\n",
        "• BOOLEAN: Valores verdadeiro(1) e falso(0).\n",
        "\n",
        "• CHAR, VARCHAR e STRING: Valores de caractere.\n",
        "\n",
        "• DATE e TIMESTAMP: Valores de cadeia de caractere pré-formatado (data/hora).\n",
        "\n"
      ],
      "metadata": {
        "id": "144lMQSG342c"
      }
    },
    {
      "cell_type": "markdown",
      "source": [
        "\n",
        "\n",
        "# **1.2   Comando CREATE**\n",
        "\n",
        "\n"
      ],
      "metadata": {
        "id": "l4-9Lx0K4VB0"
      }
    },
    {
      "cell_type": "markdown",
      "source": [
        "• Query I: Criar a tabela de transações.**\n",
        "\n",
        "\n"
      ],
      "metadata": {
        "id": "IyPdMz155lUz"
      }
    },
    {
      "cell_type": "code",
      "source": [
        "CREATE TABLE transações  (\n",
        "  id_transacao INT,\n",
        "  id_cliente INT,\n",
        "  data_compra DATE,\n",
        "  valor FLOAT,\n",
        ");"
      ],
      "metadata": {
        "id": "h2mUXNRe5yFr"
      },
      "execution_count": null,
      "outputs": []
    }
  ]
}