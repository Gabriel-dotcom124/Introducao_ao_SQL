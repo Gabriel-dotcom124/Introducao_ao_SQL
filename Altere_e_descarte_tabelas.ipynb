{
  "nbformat": 4,
  "nbformat_minor": 0,
  "metadata": {
    "colab": {
      "provenance": []
    },
    "kernelspec": {
      "name": "python3",
      "display_name": "Python 3"
    },
    "language_info": {
      "name": "python"
    }
  },
  "cells": [
    {
      "cell_type": "markdown",
      "source": [
        "\n",
        "\n",
        "# **1.   Alterando e Descartando tabelas**\n",
        "\n",
        "\n"
      ],
      "metadata": {
        "id": "qYRmGBRzAm2m"
      }
    },
    {
      "cell_type": "markdown",
      "source": [
        "\n",
        "\n",
        "# **1.1   Comando ALTER TABLE**\n",
        "\n"
      ],
      "metadata": {
        "id": "aeeZvwR5Au31"
      }
    },
    {
      "cell_type": "markdown",
      "source": [
        "• Query 1:Adicionar coluna id_loja na tabela transações"
      ],
      "metadata": {
        "id": "20vH_m8vA4sF"
      }
    },
    {
      "cell_type": "code",
      "source": [
        "ALTER TABLE transacoes\n",
        "ADD id_loja STRING;"
      ],
      "metadata": {
        "id": "OQEiWIpbA9aF"
      },
      "execution_count": null,
      "outputs": []
    },
    {
      "cell_type": "markdown",
      "source": [
        "• Query 2:Alterar tipo da coluna valor na tabela transações para 'DOUBLE'"
      ],
      "metadata": {
        "id": "1kfTh90tBBv9"
      }
    },
    {
      "cell_type": "code",
      "source": [
        "ALTER TABLE transacoes\n",
        "ALTER COLUMN valor DOUBLE;"
      ],
      "metadata": {
        "id": "sPD9m8XlB-pk"
      },
      "execution_count": null,
      "outputs": []
    },
    {
      "cell_type": "markdown",
      "source": [
        "• Query 3:Deletar coluna id_cliente na tabela transações"
      ],
      "metadata": {
        "id": "FaZYKtPpCFs8"
      }
    },
    {
      "cell_type": "code",
      "source": [
        "ALTER TABLE transacoes\n",
        "DROP COLUMN id_cliente;"
      ],
      "metadata": {
        "id": "QxEpHOcWC4AD"
      },
      "execution_count": null,
      "outputs": []
    },
    {
      "cell_type": "markdown",
      "source": [
        "\n",
        "\n",
        "# **1.2   Comando DROP TABLE**\n",
        "\n",
        "\n"
      ],
      "metadata": {
        "id": "9ay2pvCXC8lT"
      }
    },
    {
      "cell_type": "markdown",
      "source": [
        "* Esse comando remove uma tabela completamente do seu banco de dados."
      ],
      "metadata": {
        "id": "7jfOnMnUDMab"
      }
    },
    {
      "cell_type": "code",
      "source": [
        "DROP TABLE transacoes;"
      ],
      "metadata": {
        "id": "SQPRCHNGDd6j"
      },
      "execution_count": null,
      "outputs": []
    }
  ]
}