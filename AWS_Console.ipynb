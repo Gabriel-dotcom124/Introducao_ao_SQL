{
  "nbformat": 4,
  "nbformat_minor": 0,
  "metadata": {
    "colab": {
      "provenance": []
    },
    "kernelspec": {
      "name": "python3",
      "display_name": "Python 3"
    },
    "language_info": {
      "name": "python"
    }
  },
  "cells": [
    {
      "cell_type": "markdown",
      "source": [
        "\n",
        "\n",
        "# **1.   Definição**\n",
        "\n",
        "\n",
        "A Amazon Web Service (AWS) é uma plataforma de computação em nuvem. Ela oferece uma série de serviços de computação, armazenamento de dados etc. Vamos utilizar dois serviços da plataforma para construir o nosso SGBD e aprender o SQL:\n",
        "\n"
      ],
      "metadata": {
        "id": "kdky68CFN0DC"
      }
    },
    {
      "cell_type": "markdown",
      "source": [
        "\n",
        "\n",
        "*   AWS S3: Serviço de armazenamento de dados;\n",
        "*   AWS Athena: Serviços de computação em SQL.\n",
        "\n"
      ],
      "metadata": {
        "id": "voDcU9lxN82D"
      }
    },
    {
      "cell_type": "markdown",
      "source": [
        "\n",
        "\n",
        "# **2.   Armazene dados com AWS S3**\n",
        "\n",
        "\n"
      ],
      "metadata": {
        "id": "4cIbLpvYOHn9"
      }
    },
    {
      "cell_type": "markdown",
      "source": [
        "\n",
        "\n",
        "# **2.1   Definição**\n",
        "\n",
        "\n",
        "O AWS S3 é um serviço de armazenamento distribuído e sem servidor que atua como um repositório de dados. O serviço é inspirado no famoso projeto open source Apache Hadoop.\n",
        "\n"
      ],
      "metadata": {
        "id": "vG3OKDvtT-Ig"
      }
    },
    {
      "cell_type": "markdown",
      "source": [
        "\n",
        "\n",
        "# **2.2   Funcionamento**\n",
        "\n",
        "\n",
        "1. Um bucket é uma partição lógica de dados, como uma pasta do seu computador;\n",
        "2. Um objeto é um dado que você armazena dentro de um um bucket;\n",
        "3. Outros serviços da plataforma podem acessar os dados armazenados.\n",
        "\n"
      ],
      "metadata": {
        "id": "jRSKcAVgUHLC"
      }
    },
    {
      "cell_type": "markdown",
      "source": [
        "\n",
        "\n",
        "# **2.3   Definição de preço**\n",
        "\n",
        "\n",
        "O AWS S3 cobra por volume de dados armazenado. O preço atual é complexo, mas inicia-se com 0,0405 USD por gigabyte (GB) armazenado (0,21 BRL aproximadamente). Você deve sempre consultar o preço na página web do serviço no link:\n",
        "\n",
        " https://aws.amazon.com/pt/s3/pricing/?nc=sn&loc=4.\n",
        "\n"
      ],
      "metadata": {
        "id": "VZye3yM4UXT1"
      }
    },
    {
      "cell_type": "markdown",
      "source": [
        "\n",
        "\n",
        "# **3.   Explore dados com AWS Athena**\n",
        "\n",
        "\n"
      ],
      "metadata": {
        "id": "84wMaltAUq2A"
      }
    },
    {
      "cell_type": "markdown",
      "source": [
        "\n",
        "\n",
        "# **1.   Definição**\n",
        "\n",
        "\n",
        "O AWS Athena é um serviço de computação distribuída e sem servidor que atua como um motor de consulta (query engine). Por trás dos panos, ele implementa na infraestrutura computacional da AWS um projeto open source chamado Presto.\n",
        "\n"
      ],
      "metadata": {
        "id": "OYsjySR_VnN7"
      }
    },
    {
      "cell_type": "markdown",
      "source": [
        "\n",
        "\n",
        "# **3.2   Funcionamento**\n",
        "\n",
        "\n",
        "1. Processa os arquivos armazenados no AWS S3 com o código gerado;\n",
        "2. Transforma uma query em código;\n",
        "3. Retorna os resultados no console.\n",
        "\n",
        "\n"
      ],
      "metadata": {
        "id": "X8cwBlfyVu0k"
      }
    },
    {
      "cell_type": "markdown",
      "source": [
        "\n",
        "\n",
        "# **3.3   Definição de preço**\n",
        "\n",
        "\n",
        "O AWS Athena cobra por consulta. O preço atual é de 9,00 USD por terabyte escaneado (47,46 BRL aproximadamente). Você deve sempre consultar o preço na página web do serviço no link:\n",
        "\n",
        " https://prestodb.io/.\n",
        "\n"
      ],
      "metadata": {
        "id": "FyQ5VsvSWCGA"
      }
    }
  ]
}